{
  "nbformat": 4,
  "nbformat_minor": 0,
  "metadata": {
    "kernelspec": {
      "display_name": "Python 3",
      "language": "python",
      "name": "python3"
    },
    "language_info": {
      "codemirror_mode": {
        "name": "ipython",
        "version": 3
      },
      "file_extension": ".py",
      "mimetype": "text/x-python",
      "name": "python",
      "nbconvert_exporter": "python",
      "pygments_lexer": "ipython3",
      "version": "3.6.9"
    },
    "colab": {
      "name": "Bank Enrollment Classification with H2O AutoML.ipynb",
      "provenance": []
    }
  },
  "cells": [
    {
      "cell_type": "markdown",
      "metadata": {
        "id": "4nSKfTHhSSDA"
      },
      "source": [
        "<h2 align=\"center\">Automatic Machine Learning with H2O AutoML</h2>"
      ]
    },
    {
      "cell_type": "code",
      "metadata": {
        "id": "7ckNmPkgSSDC"
      },
      "source": [
        "import pandas as pd\n",
        "pd.options.display.max_rows = 999\n",
        "import numpy as np\n",
        "import matplotlib.pyplot as plt"
      ],
      "execution_count": 13,
      "outputs": []
    },
    {
      "cell_type": "markdown",
      "metadata": {
        "id": "WkxapO1ZSSDD"
      },
      "source": [
        "## Exploratory Data Analysis"
      ]
    },
    {
      "cell_type": "code",
      "metadata": {
        "id": "XCFo-SlYSSDD"
      },
      "source": [
        "#load data\n",
        "xls = pd.ExcelFile('bank_term_deposit_marketing_analysis.xlsx')"
      ],
      "execution_count": 14,
      "outputs": []
    },
    {
      "cell_type": "code",
      "metadata": {
        "colab": {
          "base_uri": "https://localhost:8080/"
        },
        "id": "fjMeGjhLSSDD",
        "outputId": "c279dd20-54f2-46f1-e01b-379301d7707f"
      },
      "source": [
        "#check out all the sheets\n",
        "xls.sheet_names"
      ],
      "execution_count": 15,
      "outputs": [
        {
          "output_type": "execute_result",
          "data": {
            "text/plain": [
              "['PROCEDURE',\n",
              " 'DATA DESCRIPTION',\n",
              " 'Step 1 - Collect Information',\n",
              " 'CLIENT_INFO',\n",
              " 'LOAN_HISTORY',\n",
              " 'MARKETING HISTORY',\n",
              " 'SUBSCRIPTION HISTORY',\n",
              " 'Step 2 - Merge Information',\n",
              " 'CLIENT_MERGE',\n",
              " 'Step 3 - Marketing Analysis',\n",
              " 'DAILY RANGE',\n",
              " 'JOB ANALYSIS',\n",
              " 'Sheet3']"
            ]
          },
          "metadata": {},
          "execution_count": 15
        }
      ]
    },
    {
      "cell_type": "code",
      "metadata": {
        "id": "wDyEyjZBSSDE"
      },
      "source": [
        "#select only sheets that we want\n",
        "#create seperate dataframe for each sheet\n",
        "client_info = pd.read_excel(xls, 'CLIENT_INFO')\n",
        "loan_history = pd.read_excel(xls, 'LOAN_HISTORY')\n",
        "marketing_history = pd.read_excel(xls, 'MARKETING HISTORY')\n",
        "subscription_history = pd.read_excel(xls, 'SUBSCRIPTION HISTORY')"
      ],
      "execution_count": 16,
      "outputs": []
    },
    {
      "cell_type": "code",
      "metadata": {
        "colab": {
          "base_uri": "https://localhost:8080/",
          "height": 197
        },
        "id": "XCIUMWLKSSDE",
        "outputId": "9624082c-992d-4962-9b60-e97e9cf2069b"
      },
      "source": [
        "#preview\n",
        "client_info.head()"
      ],
      "execution_count": 17,
      "outputs": [
        {
          "output_type": "execute_result",
          "data": {
            "text/html": [
              "<div>\n",
              "<style scoped>\n",
              "    .dataframe tbody tr th:only-of-type {\n",
              "        vertical-align: middle;\n",
              "    }\n",
              "\n",
              "    .dataframe tbody tr th {\n",
              "        vertical-align: top;\n",
              "    }\n",
              "\n",
              "    .dataframe thead th {\n",
              "        text-align: right;\n",
              "    }\n",
              "</style>\n",
              "<table border=\"1\" class=\"dataframe\">\n",
              "  <thead>\n",
              "    <tr style=\"text-align: right;\">\n",
              "      <th></th>\n",
              "      <th>ID</th>\n",
              "      <th>AGE</th>\n",
              "      <th>JOB</th>\n",
              "      <th>MARITAL</th>\n",
              "      <th>EDUCATION</th>\n",
              "    </tr>\n",
              "  </thead>\n",
              "  <tbody>\n",
              "    <tr>\n",
              "      <th>0</th>\n",
              "      <td>2836</td>\n",
              "      <td>58</td>\n",
              "      <td>management</td>\n",
              "      <td>married</td>\n",
              "      <td>tertiary</td>\n",
              "    </tr>\n",
              "    <tr>\n",
              "      <th>1</th>\n",
              "      <td>2837</td>\n",
              "      <td>44</td>\n",
              "      <td>technician</td>\n",
              "      <td>single</td>\n",
              "      <td>secondary</td>\n",
              "    </tr>\n",
              "    <tr>\n",
              "      <th>2</th>\n",
              "      <td>2838</td>\n",
              "      <td>33</td>\n",
              "      <td>entrepreneur</td>\n",
              "      <td>married</td>\n",
              "      <td>secondary</td>\n",
              "    </tr>\n",
              "    <tr>\n",
              "      <th>3</th>\n",
              "      <td>2839</td>\n",
              "      <td>47</td>\n",
              "      <td>blue-collar</td>\n",
              "      <td>married</td>\n",
              "      <td>unknown</td>\n",
              "    </tr>\n",
              "    <tr>\n",
              "      <th>4</th>\n",
              "      <td>2840</td>\n",
              "      <td>33</td>\n",
              "      <td>unknown</td>\n",
              "      <td>single</td>\n",
              "      <td>unknown</td>\n",
              "    </tr>\n",
              "  </tbody>\n",
              "</table>\n",
              "</div>"
            ],
            "text/plain": [
              "     ID  AGE           JOB  MARITAL  EDUCATION\n",
              "0  2836   58    management  married   tertiary\n",
              "1  2837   44    technician   single  secondary\n",
              "2  2838   33  entrepreneur  married  secondary\n",
              "3  2839   47   blue-collar  married    unknown\n",
              "4  2840   33       unknown   single    unknown"
            ]
          },
          "metadata": {},
          "execution_count": 17
        }
      ]
    },
    {
      "cell_type": "code",
      "metadata": {
        "colab": {
          "base_uri": "https://localhost:8080/",
          "height": 197
        },
        "id": "UHcvlbpsSSDE",
        "outputId": "a9efd8d0-55f6-4787-c163-18a280a8e454"
      },
      "source": [
        "#preview\n",
        "loan_history.head()"
      ],
      "execution_count": 18,
      "outputs": [
        {
          "output_type": "execute_result",
          "data": {
            "text/html": [
              "<div>\n",
              "<style scoped>\n",
              "    .dataframe tbody tr th:only-of-type {\n",
              "        vertical-align: middle;\n",
              "    }\n",
              "\n",
              "    .dataframe tbody tr th {\n",
              "        vertical-align: top;\n",
              "    }\n",
              "\n",
              "    .dataframe thead th {\n",
              "        text-align: right;\n",
              "    }\n",
              "</style>\n",
              "<table border=\"1\" class=\"dataframe\">\n",
              "  <thead>\n",
              "    <tr style=\"text-align: right;\">\n",
              "      <th></th>\n",
              "      <th>ID</th>\n",
              "      <th>DEFAULT</th>\n",
              "      <th>BALANCE</th>\n",
              "      <th>HOUSING</th>\n",
              "      <th>LOAN</th>\n",
              "    </tr>\n",
              "  </thead>\n",
              "  <tbody>\n",
              "    <tr>\n",
              "      <th>0</th>\n",
              "      <td>2836</td>\n",
              "      <td>no</td>\n",
              "      <td>2143</td>\n",
              "      <td>yes</td>\n",
              "      <td>no</td>\n",
              "    </tr>\n",
              "    <tr>\n",
              "      <th>1</th>\n",
              "      <td>2837</td>\n",
              "      <td>no</td>\n",
              "      <td>29</td>\n",
              "      <td>yes</td>\n",
              "      <td>no</td>\n",
              "    </tr>\n",
              "    <tr>\n",
              "      <th>2</th>\n",
              "      <td>2838</td>\n",
              "      <td>no</td>\n",
              "      <td>2</td>\n",
              "      <td>yes</td>\n",
              "      <td>yes</td>\n",
              "    </tr>\n",
              "    <tr>\n",
              "      <th>3</th>\n",
              "      <td>2839</td>\n",
              "      <td>no</td>\n",
              "      <td>1506</td>\n",
              "      <td>yes</td>\n",
              "      <td>no</td>\n",
              "    </tr>\n",
              "    <tr>\n",
              "      <th>4</th>\n",
              "      <td>2840</td>\n",
              "      <td>no</td>\n",
              "      <td>1</td>\n",
              "      <td>no</td>\n",
              "      <td>no</td>\n",
              "    </tr>\n",
              "  </tbody>\n",
              "</table>\n",
              "</div>"
            ],
            "text/plain": [
              "     ID DEFAULT  BALANCE HOUSING LOAN\n",
              "0  2836      no     2143     yes   no\n",
              "1  2837      no       29     yes   no\n",
              "2  2838      no        2     yes  yes\n",
              "3  2839      no     1506     yes   no\n",
              "4  2840      no        1      no   no"
            ]
          },
          "metadata": {},
          "execution_count": 18
        }
      ]
    },
    {
      "cell_type": "code",
      "metadata": {
        "colab": {
          "base_uri": "https://localhost:8080/",
          "height": 197
        },
        "id": "7s8T96JdSSDE",
        "outputId": "cd8f5c2c-0669-4761-ee74-18b35bb57a31"
      },
      "source": [
        "#preview\n",
        "marketing_history.head()"
      ],
      "execution_count": 19,
      "outputs": [
        {
          "output_type": "execute_result",
          "data": {
            "text/html": [
              "<div>\n",
              "<style scoped>\n",
              "    .dataframe tbody tr th:only-of-type {\n",
              "        vertical-align: middle;\n",
              "    }\n",
              "\n",
              "    .dataframe tbody tr th {\n",
              "        vertical-align: top;\n",
              "    }\n",
              "\n",
              "    .dataframe thead th {\n",
              "        text-align: right;\n",
              "    }\n",
              "</style>\n",
              "<table border=\"1\" class=\"dataframe\">\n",
              "  <thead>\n",
              "    <tr style=\"text-align: right;\">\n",
              "      <th></th>\n",
              "      <th>ID</th>\n",
              "      <th>CONTACT</th>\n",
              "      <th>DAY</th>\n",
              "      <th>MONTH</th>\n",
              "      <th>DURATION</th>\n",
              "      <th>CAMPAIGN</th>\n",
              "      <th>PDAYS</th>\n",
              "      <th>PREVIOUS</th>\n",
              "      <th>POUTCOME</th>\n",
              "    </tr>\n",
              "  </thead>\n",
              "  <tbody>\n",
              "    <tr>\n",
              "      <th>0</th>\n",
              "      <td>2836</td>\n",
              "      <td>unknown</td>\n",
              "      <td>5</td>\n",
              "      <td>may</td>\n",
              "      <td>261</td>\n",
              "      <td>1</td>\n",
              "      <td>-1</td>\n",
              "      <td>0</td>\n",
              "      <td>unknown</td>\n",
              "    </tr>\n",
              "    <tr>\n",
              "      <th>1</th>\n",
              "      <td>2837</td>\n",
              "      <td>unknown</td>\n",
              "      <td>5</td>\n",
              "      <td>may</td>\n",
              "      <td>151</td>\n",
              "      <td>1</td>\n",
              "      <td>-1</td>\n",
              "      <td>0</td>\n",
              "      <td>unknown</td>\n",
              "    </tr>\n",
              "    <tr>\n",
              "      <th>2</th>\n",
              "      <td>2838</td>\n",
              "      <td>unknown</td>\n",
              "      <td>5</td>\n",
              "      <td>may</td>\n",
              "      <td>76</td>\n",
              "      <td>1</td>\n",
              "      <td>-1</td>\n",
              "      <td>0</td>\n",
              "      <td>unknown</td>\n",
              "    </tr>\n",
              "    <tr>\n",
              "      <th>3</th>\n",
              "      <td>2839</td>\n",
              "      <td>unknown</td>\n",
              "      <td>5</td>\n",
              "      <td>may</td>\n",
              "      <td>92</td>\n",
              "      <td>1</td>\n",
              "      <td>-1</td>\n",
              "      <td>0</td>\n",
              "      <td>unknown</td>\n",
              "    </tr>\n",
              "    <tr>\n",
              "      <th>4</th>\n",
              "      <td>2840</td>\n",
              "      <td>unknown</td>\n",
              "      <td>5</td>\n",
              "      <td>may</td>\n",
              "      <td>198</td>\n",
              "      <td>1</td>\n",
              "      <td>-1</td>\n",
              "      <td>0</td>\n",
              "      <td>unknown</td>\n",
              "    </tr>\n",
              "  </tbody>\n",
              "</table>\n",
              "</div>"
            ],
            "text/plain": [
              "     ID  CONTACT  DAY MONTH  DURATION  CAMPAIGN  PDAYS  PREVIOUS POUTCOME\n",
              "0  2836  unknown    5   may       261         1     -1         0  unknown\n",
              "1  2837  unknown    5   may       151         1     -1         0  unknown\n",
              "2  2838  unknown    5   may        76         1     -1         0  unknown\n",
              "3  2839  unknown    5   may        92         1     -1         0  unknown\n",
              "4  2840  unknown    5   may       198         1     -1         0  unknown"
            ]
          },
          "metadata": {},
          "execution_count": 19
        }
      ]
    },
    {
      "cell_type": "code",
      "metadata": {
        "colab": {
          "base_uri": "https://localhost:8080/",
          "height": 197
        },
        "id": "sK7UpmaxSSDF",
        "outputId": "06d91ab6-7db9-443b-be3f-e8f450772a87"
      },
      "source": [
        "#preview\n",
        "subscription_history.head()\n",
        "\n",
        "#no = client did not enroll\n",
        "#yes = client enrolled\n",
        "#binary classification problem"
      ],
      "execution_count": 20,
      "outputs": [
        {
          "output_type": "execute_result",
          "data": {
            "text/html": [
              "<div>\n",
              "<style scoped>\n",
              "    .dataframe tbody tr th:only-of-type {\n",
              "        vertical-align: middle;\n",
              "    }\n",
              "\n",
              "    .dataframe tbody tr th {\n",
              "        vertical-align: top;\n",
              "    }\n",
              "\n",
              "    .dataframe thead th {\n",
              "        text-align: right;\n",
              "    }\n",
              "</style>\n",
              "<table border=\"1\" class=\"dataframe\">\n",
              "  <thead>\n",
              "    <tr style=\"text-align: right;\">\n",
              "      <th></th>\n",
              "      <th>ID</th>\n",
              "      <th>TERM_DEPOSIT</th>\n",
              "    </tr>\n",
              "  </thead>\n",
              "  <tbody>\n",
              "    <tr>\n",
              "      <th>0</th>\n",
              "      <td>2836</td>\n",
              "      <td>no</td>\n",
              "    </tr>\n",
              "    <tr>\n",
              "      <th>1</th>\n",
              "      <td>2837</td>\n",
              "      <td>no</td>\n",
              "    </tr>\n",
              "    <tr>\n",
              "      <th>2</th>\n",
              "      <td>2838</td>\n",
              "      <td>no</td>\n",
              "    </tr>\n",
              "    <tr>\n",
              "      <th>3</th>\n",
              "      <td>2839</td>\n",
              "      <td>no</td>\n",
              "    </tr>\n",
              "    <tr>\n",
              "      <th>4</th>\n",
              "      <td>2840</td>\n",
              "      <td>no</td>\n",
              "    </tr>\n",
              "  </tbody>\n",
              "</table>\n",
              "</div>"
            ],
            "text/plain": [
              "     ID TERM_DEPOSIT\n",
              "0  2836           no\n",
              "1  2837           no\n",
              "2  2838           no\n",
              "3  2839           no\n",
              "4  2840           no"
            ]
          },
          "metadata": {},
          "execution_count": 20
        }
      ]
    },
    {
      "cell_type": "code",
      "metadata": {
        "colab": {
          "base_uri": "https://localhost:8080/",
          "height": 217
        },
        "id": "C7lsdDs9SSDF",
        "outputId": "4063c394-b79e-4eff-bc34-58ae2a34124e"
      },
      "source": [
        "#combine dataframe\n",
        "df = pd.merge(client_info, loan_history, on=['ID'])\n",
        "df = pd.merge(df, marketing_history, on=['ID'])\n",
        "df = pd.merge(df, subscription_history, on=['ID'])\n",
        "\n",
        "#preview\n",
        "df.head()"
      ],
      "execution_count": 21,
      "outputs": [
        {
          "output_type": "execute_result",
          "data": {
            "text/html": [
              "<div>\n",
              "<style scoped>\n",
              "    .dataframe tbody tr th:only-of-type {\n",
              "        vertical-align: middle;\n",
              "    }\n",
              "\n",
              "    .dataframe tbody tr th {\n",
              "        vertical-align: top;\n",
              "    }\n",
              "\n",
              "    .dataframe thead th {\n",
              "        text-align: right;\n",
              "    }\n",
              "</style>\n",
              "<table border=\"1\" class=\"dataframe\">\n",
              "  <thead>\n",
              "    <tr style=\"text-align: right;\">\n",
              "      <th></th>\n",
              "      <th>ID</th>\n",
              "      <th>AGE</th>\n",
              "      <th>JOB</th>\n",
              "      <th>MARITAL</th>\n",
              "      <th>EDUCATION</th>\n",
              "      <th>DEFAULT</th>\n",
              "      <th>BALANCE</th>\n",
              "      <th>HOUSING</th>\n",
              "      <th>LOAN</th>\n",
              "      <th>CONTACT</th>\n",
              "      <th>DAY</th>\n",
              "      <th>MONTH</th>\n",
              "      <th>DURATION</th>\n",
              "      <th>CAMPAIGN</th>\n",
              "      <th>PDAYS</th>\n",
              "      <th>PREVIOUS</th>\n",
              "      <th>POUTCOME</th>\n",
              "      <th>TERM_DEPOSIT</th>\n",
              "    </tr>\n",
              "  </thead>\n",
              "  <tbody>\n",
              "    <tr>\n",
              "      <th>0</th>\n",
              "      <td>2836</td>\n",
              "      <td>58</td>\n",
              "      <td>management</td>\n",
              "      <td>married</td>\n",
              "      <td>tertiary</td>\n",
              "      <td>no</td>\n",
              "      <td>2143</td>\n",
              "      <td>yes</td>\n",
              "      <td>no</td>\n",
              "      <td>unknown</td>\n",
              "      <td>5</td>\n",
              "      <td>may</td>\n",
              "      <td>261</td>\n",
              "      <td>1</td>\n",
              "      <td>-1</td>\n",
              "      <td>0</td>\n",
              "      <td>unknown</td>\n",
              "      <td>no</td>\n",
              "    </tr>\n",
              "    <tr>\n",
              "      <th>1</th>\n",
              "      <td>2837</td>\n",
              "      <td>44</td>\n",
              "      <td>technician</td>\n",
              "      <td>single</td>\n",
              "      <td>secondary</td>\n",
              "      <td>no</td>\n",
              "      <td>29</td>\n",
              "      <td>yes</td>\n",
              "      <td>no</td>\n",
              "      <td>unknown</td>\n",
              "      <td>5</td>\n",
              "      <td>may</td>\n",
              "      <td>151</td>\n",
              "      <td>1</td>\n",
              "      <td>-1</td>\n",
              "      <td>0</td>\n",
              "      <td>unknown</td>\n",
              "      <td>no</td>\n",
              "    </tr>\n",
              "    <tr>\n",
              "      <th>2</th>\n",
              "      <td>2838</td>\n",
              "      <td>33</td>\n",
              "      <td>entrepreneur</td>\n",
              "      <td>married</td>\n",
              "      <td>secondary</td>\n",
              "      <td>no</td>\n",
              "      <td>2</td>\n",
              "      <td>yes</td>\n",
              "      <td>yes</td>\n",
              "      <td>unknown</td>\n",
              "      <td>5</td>\n",
              "      <td>may</td>\n",
              "      <td>76</td>\n",
              "      <td>1</td>\n",
              "      <td>-1</td>\n",
              "      <td>0</td>\n",
              "      <td>unknown</td>\n",
              "      <td>no</td>\n",
              "    </tr>\n",
              "    <tr>\n",
              "      <th>3</th>\n",
              "      <td>2839</td>\n",
              "      <td>47</td>\n",
              "      <td>blue-collar</td>\n",
              "      <td>married</td>\n",
              "      <td>unknown</td>\n",
              "      <td>no</td>\n",
              "      <td>1506</td>\n",
              "      <td>yes</td>\n",
              "      <td>no</td>\n",
              "      <td>unknown</td>\n",
              "      <td>5</td>\n",
              "      <td>may</td>\n",
              "      <td>92</td>\n",
              "      <td>1</td>\n",
              "      <td>-1</td>\n",
              "      <td>0</td>\n",
              "      <td>unknown</td>\n",
              "      <td>no</td>\n",
              "    </tr>\n",
              "    <tr>\n",
              "      <th>4</th>\n",
              "      <td>2840</td>\n",
              "      <td>33</td>\n",
              "      <td>unknown</td>\n",
              "      <td>single</td>\n",
              "      <td>unknown</td>\n",
              "      <td>no</td>\n",
              "      <td>1</td>\n",
              "      <td>no</td>\n",
              "      <td>no</td>\n",
              "      <td>unknown</td>\n",
              "      <td>5</td>\n",
              "      <td>may</td>\n",
              "      <td>198</td>\n",
              "      <td>1</td>\n",
              "      <td>-1</td>\n",
              "      <td>0</td>\n",
              "      <td>unknown</td>\n",
              "      <td>no</td>\n",
              "    </tr>\n",
              "  </tbody>\n",
              "</table>\n",
              "</div>"
            ],
            "text/plain": [
              "     ID  AGE           JOB  MARITAL  ... PDAYS PREVIOUS  POUTCOME TERM_DEPOSIT\n",
              "0  2836   58    management  married  ...    -1        0   unknown           no\n",
              "1  2837   44    technician   single  ...    -1        0   unknown           no\n",
              "2  2838   33  entrepreneur  married  ...    -1        0   unknown           no\n",
              "3  2839   47   blue-collar  married  ...    -1        0   unknown           no\n",
              "4  2840   33       unknown   single  ...    -1        0   unknown           no\n",
              "\n",
              "[5 rows x 18 columns]"
            ]
          },
          "metadata": {},
          "execution_count": 21
        }
      ]
    },
    {
      "cell_type": "code",
      "metadata": {
        "colab": {
          "base_uri": "https://localhost:8080/",
          "height": 217
        },
        "id": "lpv3UWTfSSDF",
        "outputId": "98dbd14a-14ca-4adc-f5ba-f21ba1aa74cb"
      },
      "source": [
        "#drop 'ID' since it is not predictive\n",
        "df = df.drop(columns=['ID'], axis=1)\n",
        "df.head()"
      ],
      "execution_count": 22,
      "outputs": [
        {
          "output_type": "execute_result",
          "data": {
            "text/html": [
              "<div>\n",
              "<style scoped>\n",
              "    .dataframe tbody tr th:only-of-type {\n",
              "        vertical-align: middle;\n",
              "    }\n",
              "\n",
              "    .dataframe tbody tr th {\n",
              "        vertical-align: top;\n",
              "    }\n",
              "\n",
              "    .dataframe thead th {\n",
              "        text-align: right;\n",
              "    }\n",
              "</style>\n",
              "<table border=\"1\" class=\"dataframe\">\n",
              "  <thead>\n",
              "    <tr style=\"text-align: right;\">\n",
              "      <th></th>\n",
              "      <th>AGE</th>\n",
              "      <th>JOB</th>\n",
              "      <th>MARITAL</th>\n",
              "      <th>EDUCATION</th>\n",
              "      <th>DEFAULT</th>\n",
              "      <th>BALANCE</th>\n",
              "      <th>HOUSING</th>\n",
              "      <th>LOAN</th>\n",
              "      <th>CONTACT</th>\n",
              "      <th>DAY</th>\n",
              "      <th>MONTH</th>\n",
              "      <th>DURATION</th>\n",
              "      <th>CAMPAIGN</th>\n",
              "      <th>PDAYS</th>\n",
              "      <th>PREVIOUS</th>\n",
              "      <th>POUTCOME</th>\n",
              "      <th>TERM_DEPOSIT</th>\n",
              "    </tr>\n",
              "  </thead>\n",
              "  <tbody>\n",
              "    <tr>\n",
              "      <th>0</th>\n",
              "      <td>58</td>\n",
              "      <td>management</td>\n",
              "      <td>married</td>\n",
              "      <td>tertiary</td>\n",
              "      <td>no</td>\n",
              "      <td>2143</td>\n",
              "      <td>yes</td>\n",
              "      <td>no</td>\n",
              "      <td>unknown</td>\n",
              "      <td>5</td>\n",
              "      <td>may</td>\n",
              "      <td>261</td>\n",
              "      <td>1</td>\n",
              "      <td>-1</td>\n",
              "      <td>0</td>\n",
              "      <td>unknown</td>\n",
              "      <td>no</td>\n",
              "    </tr>\n",
              "    <tr>\n",
              "      <th>1</th>\n",
              "      <td>44</td>\n",
              "      <td>technician</td>\n",
              "      <td>single</td>\n",
              "      <td>secondary</td>\n",
              "      <td>no</td>\n",
              "      <td>29</td>\n",
              "      <td>yes</td>\n",
              "      <td>no</td>\n",
              "      <td>unknown</td>\n",
              "      <td>5</td>\n",
              "      <td>may</td>\n",
              "      <td>151</td>\n",
              "      <td>1</td>\n",
              "      <td>-1</td>\n",
              "      <td>0</td>\n",
              "      <td>unknown</td>\n",
              "      <td>no</td>\n",
              "    </tr>\n",
              "    <tr>\n",
              "      <th>2</th>\n",
              "      <td>33</td>\n",
              "      <td>entrepreneur</td>\n",
              "      <td>married</td>\n",
              "      <td>secondary</td>\n",
              "      <td>no</td>\n",
              "      <td>2</td>\n",
              "      <td>yes</td>\n",
              "      <td>yes</td>\n",
              "      <td>unknown</td>\n",
              "      <td>5</td>\n",
              "      <td>may</td>\n",
              "      <td>76</td>\n",
              "      <td>1</td>\n",
              "      <td>-1</td>\n",
              "      <td>0</td>\n",
              "      <td>unknown</td>\n",
              "      <td>no</td>\n",
              "    </tr>\n",
              "    <tr>\n",
              "      <th>3</th>\n",
              "      <td>47</td>\n",
              "      <td>blue-collar</td>\n",
              "      <td>married</td>\n",
              "      <td>unknown</td>\n",
              "      <td>no</td>\n",
              "      <td>1506</td>\n",
              "      <td>yes</td>\n",
              "      <td>no</td>\n",
              "      <td>unknown</td>\n",
              "      <td>5</td>\n",
              "      <td>may</td>\n",
              "      <td>92</td>\n",
              "      <td>1</td>\n",
              "      <td>-1</td>\n",
              "      <td>0</td>\n",
              "      <td>unknown</td>\n",
              "      <td>no</td>\n",
              "    </tr>\n",
              "    <tr>\n",
              "      <th>4</th>\n",
              "      <td>33</td>\n",
              "      <td>unknown</td>\n",
              "      <td>single</td>\n",
              "      <td>unknown</td>\n",
              "      <td>no</td>\n",
              "      <td>1</td>\n",
              "      <td>no</td>\n",
              "      <td>no</td>\n",
              "      <td>unknown</td>\n",
              "      <td>5</td>\n",
              "      <td>may</td>\n",
              "      <td>198</td>\n",
              "      <td>1</td>\n",
              "      <td>-1</td>\n",
              "      <td>0</td>\n",
              "      <td>unknown</td>\n",
              "      <td>no</td>\n",
              "    </tr>\n",
              "  </tbody>\n",
              "</table>\n",
              "</div>"
            ],
            "text/plain": [
              "   AGE           JOB  MARITAL  EDUCATION  ... PDAYS  PREVIOUS POUTCOME TERM_DEPOSIT\n",
              "0   58    management  married   tertiary  ...    -1         0  unknown           no\n",
              "1   44    technician   single  secondary  ...    -1         0  unknown           no\n",
              "2   33  entrepreneur  married  secondary  ...    -1         0  unknown           no\n",
              "3   47   blue-collar  married    unknown  ...    -1         0  unknown           no\n",
              "4   33       unknown   single    unknown  ...    -1         0  unknown           no\n",
              "\n",
              "[5 rows x 17 columns]"
            ]
          },
          "metadata": {},
          "execution_count": 22
        }
      ]
    },
    {
      "cell_type": "code",
      "metadata": {
        "colab": {
          "base_uri": "https://localhost:8080/"
        },
        "id": "Dl_sbMiZtgZ4",
        "outputId": "decfdfcc-2332-4bcd-861d-522048a57e63"
      },
      "source": [
        "#info\n",
        "df.info()"
      ],
      "execution_count": 45,
      "outputs": [
        {
          "output_type": "stream",
          "name": "stdout",
          "text": [
            "<class 'pandas.core.frame.DataFrame'>\n",
            "Int64Index: 45211 entries, 0 to 45210\n",
            "Data columns (total 17 columns):\n",
            " #   Column        Non-Null Count  Dtype \n",
            "---  ------        --------------  ----- \n",
            " 0   AGE           45211 non-null  int64 \n",
            " 1   JOB           45211 non-null  object\n",
            " 2   MARITAL       45211 non-null  object\n",
            " 3   EDUCATION     45211 non-null  object\n",
            " 4   DEFAULT       45211 non-null  object\n",
            " 5   BALANCE       45211 non-null  int64 \n",
            " 6   HOUSING       45211 non-null  object\n",
            " 7   LOAN          45211 non-null  object\n",
            " 8   CONTACT       45211 non-null  object\n",
            " 9   DAY           45211 non-null  int64 \n",
            " 10  MONTH         45211 non-null  object\n",
            " 11  DURATION      45211 non-null  int64 \n",
            " 12  CAMPAIGN      45211 non-null  int64 \n",
            " 13  PDAYS         45211 non-null  int64 \n",
            " 14  PREVIOUS      45211 non-null  int64 \n",
            " 15  POUTCOME      45211 non-null  object\n",
            " 16  TERM_DEPOSIT  45211 non-null  object\n",
            "dtypes: int64(7), object(10)\n",
            "memory usage: 6.2+ MB\n"
          ]
        }
      ]
    },
    {
      "cell_type": "markdown",
      "metadata": {
        "id": "dQw2rsm7SSDF"
      },
      "source": [
        "## Data Prep & Start H2O"
      ]
    },
    {
      "cell_type": "code",
      "metadata": {
        "id": "Pv5dNOwhSSDF",
        "colab": {
          "base_uri": "https://localhost:8080/",
          "height": 836
        },
        "outputId": "9dc9d920-3e34-4010-b083-7277353dfcae"
      },
      "source": [
        "#start H2O cluster\n",
        "! pip install h2o\n",
        "import h2o\n",
        "\n",
        "#initialize\n",
        "h2o.init()"
      ],
      "execution_count": 24,
      "outputs": [
        {
          "output_type": "stream",
          "name": "stdout",
          "text": [
            "Collecting h2o\n",
            "  Downloading h2o-3.32.1.6.tar.gz (168.4 MB)\n",
            "\u001b[K     |████████████████████████████████| 168.4 MB 69 kB/s \n",
            "\u001b[?25hRequirement already satisfied: requests in /usr/local/lib/python3.7/dist-packages (from h2o) (2.23.0)\n",
            "Requirement already satisfied: tabulate in /usr/local/lib/python3.7/dist-packages (from h2o) (0.8.9)\n",
            "Requirement already satisfied: future in /usr/local/lib/python3.7/dist-packages (from h2o) (0.16.0)\n",
            "Collecting colorama>=0.3.8\n",
            "  Downloading colorama-0.4.4-py2.py3-none-any.whl (16 kB)\n",
            "Requirement already satisfied: urllib3!=1.25.0,!=1.25.1,<1.26,>=1.21.1 in /usr/local/lib/python3.7/dist-packages (from requests->h2o) (1.24.3)\n",
            "Requirement already satisfied: chardet<4,>=3.0.2 in /usr/local/lib/python3.7/dist-packages (from requests->h2o) (3.0.4)\n",
            "Requirement already satisfied: certifi>=2017.4.17 in /usr/local/lib/python3.7/dist-packages (from requests->h2o) (2021.5.30)\n",
            "Requirement already satisfied: idna<3,>=2.5 in /usr/local/lib/python3.7/dist-packages (from requests->h2o) (2.10)\n",
            "Building wheels for collected packages: h2o\n",
            "  Building wheel for h2o (setup.py) ... \u001b[?25l\u001b[?25hdone\n",
            "  Created wheel for h2o: filename=h2o-3.32.1.6-py2.py3-none-any.whl size=168439194 sha256=20e027b37c9f959849ac2cc3f54d2d3c1efce1403ac9570fdefb6a1964284ec8\n",
            "  Stored in directory: /root/.cache/pip/wheels/ee/0f/51/849ba221c4c1b11a04efb4a3427dc9cb1c4dcde218c6c98b13\n",
            "Successfully built h2o\n",
            "Installing collected packages: colorama, h2o\n",
            "Successfully installed colorama-0.4.4 h2o-3.32.1.6\n",
            "Checking whether there is an H2O instance running at http://localhost:54321 ..... not found.\n",
            "Attempting to start a local H2O server...\n",
            "  Java Version: openjdk version \"11.0.11\" 2021-04-20; OpenJDK Runtime Environment (build 11.0.11+9-Ubuntu-0ubuntu2.18.04); OpenJDK 64-Bit Server VM (build 11.0.11+9-Ubuntu-0ubuntu2.18.04, mixed mode, sharing)\n",
            "  Starting server from /usr/local/lib/python3.7/dist-packages/h2o/backend/bin/h2o.jar\n",
            "  Ice root: /tmp/tmpk_45873o\n",
            "  JVM stdout: /tmp/tmpk_45873o/h2o_unknownUser_started_from_python.out\n",
            "  JVM stderr: /tmp/tmpk_45873o/h2o_unknownUser_started_from_python.err\n",
            "  Server is running at http://127.0.0.1:54321\n",
            "Connecting to H2O server at http://127.0.0.1:54321 ... successful.\n"
          ]
        },
        {
          "output_type": "display_data",
          "data": {
            "text/html": [
              "<div style=\"overflow:auto\"><table style=\"width:50%\"><tr><td>H2O_cluster_uptime:</td>\n",
              "<td>03 secs</td></tr>\n",
              "<tr><td>H2O_cluster_timezone:</td>\n",
              "<td>Etc/UTC</td></tr>\n",
              "<tr><td>H2O_data_parsing_timezone:</td>\n",
              "<td>UTC</td></tr>\n",
              "<tr><td>H2O_cluster_version:</td>\n",
              "<td>3.32.1.6</td></tr>\n",
              "<tr><td>H2O_cluster_version_age:</td>\n",
              "<td>13 days </td></tr>\n",
              "<tr><td>H2O_cluster_name:</td>\n",
              "<td>H2O_from_python_unknownUser_ypkmys</td></tr>\n",
              "<tr><td>H2O_cluster_total_nodes:</td>\n",
              "<td>1</td></tr>\n",
              "<tr><td>H2O_cluster_free_memory:</td>\n",
              "<td>3.172 Gb</td></tr>\n",
              "<tr><td>H2O_cluster_total_cores:</td>\n",
              "<td>2</td></tr>\n",
              "<tr><td>H2O_cluster_allowed_cores:</td>\n",
              "<td>2</td></tr>\n",
              "<tr><td>H2O_cluster_status:</td>\n",
              "<td>accepting new members, healthy</td></tr>\n",
              "<tr><td>H2O_connection_url:</td>\n",
              "<td>http://127.0.0.1:54321</td></tr>\n",
              "<tr><td>H2O_connection_proxy:</td>\n",
              "<td>{\"http\": null, \"https\": null}</td></tr>\n",
              "<tr><td>H2O_internal_security:</td>\n",
              "<td>False</td></tr>\n",
              "<tr><td>H2O_API_Extensions:</td>\n",
              "<td>Amazon S3, XGBoost, Algos, AutoML, Core V3, TargetEncoder, Core V4</td></tr>\n",
              "<tr><td>Python_version:</td>\n",
              "<td>3.7.11 final</td></tr></table></div>"
            ],
            "text/plain": [
              "--------------------------  ------------------------------------------------------------------\n",
              "H2O_cluster_uptime:         03 secs\n",
              "H2O_cluster_timezone:       Etc/UTC\n",
              "H2O_data_parsing_timezone:  UTC\n",
              "H2O_cluster_version:        3.32.1.6\n",
              "H2O_cluster_version_age:    13 days\n",
              "H2O_cluster_name:           H2O_from_python_unknownUser_ypkmys\n",
              "H2O_cluster_total_nodes:    1\n",
              "H2O_cluster_free_memory:    3.172 Gb\n",
              "H2O_cluster_total_cores:    2\n",
              "H2O_cluster_allowed_cores:  2\n",
              "H2O_cluster_status:         accepting new members, healthy\n",
              "H2O_connection_url:         http://127.0.0.1:54321\n",
              "H2O_connection_proxy:       {\"http\": null, \"https\": null}\n",
              "H2O_internal_security:      False\n",
              "H2O_API_Extensions:         Amazon S3, XGBoost, Algos, AutoML, Core V3, TargetEncoder, Core V4\n",
              "Python_version:             3.7.11 final\n",
              "--------------------------  ------------------------------------------------------------------"
            ]
          },
          "metadata": {}
        }
      ]
    },
    {
      "cell_type": "code",
      "metadata": {
        "id": "rAGcE90NSSDG",
        "colab": {
          "base_uri": "https://localhost:8080/"
        },
        "outputId": "3984dee5-82fd-430b-eb1e-1ce9e344daff"
      },
      "source": [
        "#convert pandas df into h2o frame\n",
        "h2o_df = h2o.H2OFrame(df)"
      ],
      "execution_count": 25,
      "outputs": [
        {
          "output_type": "stream",
          "name": "stdout",
          "text": [
            "Parse progress: |█████████████████████████████████████████████████████████| 100%\n"
          ]
        }
      ]
    },
    {
      "cell_type": "code",
      "metadata": {
        "id": "flyiDzjTSSDG",
        "colab": {
          "base_uri": "https://localhost:8080/",
          "height": 233
        },
        "outputId": "037fb182-a0c4-48a9-97fc-fea0db333f08"
      },
      "source": [
        "#preview\n",
        "h2o_df.head()"
      ],
      "execution_count": 26,
      "outputs": [
        {
          "output_type": "display_data",
          "data": {
            "text/html": [
              "<table>\n",
              "<thead>\n",
              "<tr><th style=\"text-align: right;\">  AGE</th><th>JOB         </th><th>MARITAL  </th><th>EDUCATION  </th><th>DEFAULT  </th><th style=\"text-align: right;\">  BALANCE</th><th>HOUSING  </th><th>LOAN  </th><th>CONTACT  </th><th style=\"text-align: right;\">  DAY</th><th>MONTH  </th><th style=\"text-align: right;\">  DURATION</th><th style=\"text-align: right;\">  CAMPAIGN</th><th style=\"text-align: right;\">  PDAYS</th><th style=\"text-align: right;\">  PREVIOUS</th><th>POUTCOME  </th><th>TERM_DEPOSIT  </th></tr>\n",
              "</thead>\n",
              "<tbody>\n",
              "<tr><td style=\"text-align: right;\">   58</td><td>management  </td><td>married  </td><td>tertiary   </td><td>no       </td><td style=\"text-align: right;\">     2143</td><td>yes      </td><td>no    </td><td>unknown  </td><td style=\"text-align: right;\">    5</td><td>may    </td><td style=\"text-align: right;\">       261</td><td style=\"text-align: right;\">         1</td><td style=\"text-align: right;\">     -1</td><td style=\"text-align: right;\">         0</td><td>unknown   </td><td>no            </td></tr>\n",
              "<tr><td style=\"text-align: right;\">   44</td><td>technician  </td><td>single   </td><td>secondary  </td><td>no       </td><td style=\"text-align: right;\">       29</td><td>yes      </td><td>no    </td><td>unknown  </td><td style=\"text-align: right;\">    5</td><td>may    </td><td style=\"text-align: right;\">       151</td><td style=\"text-align: right;\">         1</td><td style=\"text-align: right;\">     -1</td><td style=\"text-align: right;\">         0</td><td>unknown   </td><td>no            </td></tr>\n",
              "<tr><td style=\"text-align: right;\">   33</td><td>entrepreneur</td><td>married  </td><td>secondary  </td><td>no       </td><td style=\"text-align: right;\">        2</td><td>yes      </td><td>yes   </td><td>unknown  </td><td style=\"text-align: right;\">    5</td><td>may    </td><td style=\"text-align: right;\">        76</td><td style=\"text-align: right;\">         1</td><td style=\"text-align: right;\">     -1</td><td style=\"text-align: right;\">         0</td><td>unknown   </td><td>no            </td></tr>\n",
              "<tr><td style=\"text-align: right;\">   47</td><td>blue-collar </td><td>married  </td><td>unknown    </td><td>no       </td><td style=\"text-align: right;\">     1506</td><td>yes      </td><td>no    </td><td>unknown  </td><td style=\"text-align: right;\">    5</td><td>may    </td><td style=\"text-align: right;\">        92</td><td style=\"text-align: right;\">         1</td><td style=\"text-align: right;\">     -1</td><td style=\"text-align: right;\">         0</td><td>unknown   </td><td>no            </td></tr>\n",
              "<tr><td style=\"text-align: right;\">   33</td><td>unknown     </td><td>single   </td><td>unknown    </td><td>no       </td><td style=\"text-align: right;\">        1</td><td>no       </td><td>no    </td><td>unknown  </td><td style=\"text-align: right;\">    5</td><td>may    </td><td style=\"text-align: right;\">       198</td><td style=\"text-align: right;\">         1</td><td style=\"text-align: right;\">     -1</td><td style=\"text-align: right;\">         0</td><td>unknown   </td><td>no            </td></tr>\n",
              "<tr><td style=\"text-align: right;\">   35</td><td>management  </td><td>married  </td><td>tertiary   </td><td>no       </td><td style=\"text-align: right;\">      231</td><td>yes      </td><td>no    </td><td>unknown  </td><td style=\"text-align: right;\">    5</td><td>may    </td><td style=\"text-align: right;\">       139</td><td style=\"text-align: right;\">         1</td><td style=\"text-align: right;\">     -1</td><td style=\"text-align: right;\">         0</td><td>unknown   </td><td>no            </td></tr>\n",
              "<tr><td style=\"text-align: right;\">   28</td><td>management  </td><td>single   </td><td>tertiary   </td><td>no       </td><td style=\"text-align: right;\">      447</td><td>yes      </td><td>yes   </td><td>unknown  </td><td style=\"text-align: right;\">    5</td><td>may    </td><td style=\"text-align: right;\">       217</td><td style=\"text-align: right;\">         1</td><td style=\"text-align: right;\">     -1</td><td style=\"text-align: right;\">         0</td><td>unknown   </td><td>no            </td></tr>\n",
              "<tr><td style=\"text-align: right;\">   42</td><td>entrepreneur</td><td>divorced </td><td>tertiary   </td><td>yes      </td><td style=\"text-align: right;\">        2</td><td>yes      </td><td>no    </td><td>unknown  </td><td style=\"text-align: right;\">    5</td><td>may    </td><td style=\"text-align: right;\">       380</td><td style=\"text-align: right;\">         1</td><td style=\"text-align: right;\">     -1</td><td style=\"text-align: right;\">         0</td><td>unknown   </td><td>no            </td></tr>\n",
              "<tr><td style=\"text-align: right;\">   58</td><td>retired     </td><td>married  </td><td>primary    </td><td>no       </td><td style=\"text-align: right;\">      121</td><td>yes      </td><td>no    </td><td>unknown  </td><td style=\"text-align: right;\">    5</td><td>may    </td><td style=\"text-align: right;\">        50</td><td style=\"text-align: right;\">         1</td><td style=\"text-align: right;\">     -1</td><td style=\"text-align: right;\">         0</td><td>unknown   </td><td>no            </td></tr>\n",
              "<tr><td style=\"text-align: right;\">   43</td><td>technician  </td><td>single   </td><td>secondary  </td><td>no       </td><td style=\"text-align: right;\">      593</td><td>yes      </td><td>no    </td><td>unknown  </td><td style=\"text-align: right;\">    5</td><td>may    </td><td style=\"text-align: right;\">        55</td><td style=\"text-align: right;\">         1</td><td style=\"text-align: right;\">     -1</td><td style=\"text-align: right;\">         0</td><td>unknown   </td><td>no            </td></tr>\n",
              "</tbody>\n",
              "</table>"
            ]
          },
          "metadata": {}
        },
        {
          "output_type": "execute_result",
          "data": {
            "text/plain": [
              ""
            ]
          },
          "metadata": {},
          "execution_count": 26
        }
      ]
    },
    {
      "cell_type": "code",
      "metadata": {
        "id": "USJ5dPHTSSDG",
        "colab": {
          "base_uri": "https://localhost:8080/",
          "height": 428
        },
        "outputId": "7cd12bb9-9c4e-4db2-cc04-bd4246a66d0d"
      },
      "source": [
        "#statistics\n",
        "h2o_df.describe()\n",
        "\n",
        "#enum ~ categorical data"
      ],
      "execution_count": 27,
      "outputs": [
        {
          "output_type": "stream",
          "name": "stdout",
          "text": [
            "Rows:45211\n",
            "Cols:17\n",
            "\n",
            "\n"
          ]
        },
        {
          "output_type": "display_data",
          "data": {
            "text/html": [
              "<table>\n",
              "<thead>\n",
              "<tr><th>       </th><th>AGE               </th><th>JOB         </th><th>MARITAL  </th><th>EDUCATION  </th><th>DEFAULT  </th><th>BALANCE           </th><th>HOUSING  </th><th>LOAN  </th><th>CONTACT  </th><th>DAY               </th><th>MONTH  </th><th>DURATION          </th><th>CAMPAIGN          </th><th>PDAYS             </th><th>PREVIOUS          </th><th>POUTCOME  </th><th>TERM_DEPOSIT  </th></tr>\n",
              "</thead>\n",
              "<tbody>\n",
              "<tr><td>type   </td><td>int               </td><td>enum        </td><td>enum     </td><td>enum       </td><td>enum     </td><td>int               </td><td>enum     </td><td>enum  </td><td>enum     </td><td>int               </td><td>enum   </td><td>int               </td><td>int               </td><td>int               </td><td>int               </td><td>enum      </td><td>enum          </td></tr>\n",
              "<tr><td>mins   </td><td>18.0              </td><td>            </td><td>         </td><td>           </td><td>         </td><td>-8019.0           </td><td>         </td><td>      </td><td>         </td><td>1.0               </td><td>       </td><td>0.0               </td><td>1.0               </td><td>-1.0              </td><td>0.0               </td><td>          </td><td>              </td></tr>\n",
              "<tr><td>mean   </td><td>40.93621021432807 </td><td>            </td><td>         </td><td>           </td><td>         </td><td>1362.2720576850802</td><td>         </td><td>      </td><td>         </td><td>15.806418791886923</td><td>       </td><td>258.16307978146915</td><td>2.7638406582468997</td><td>40.19782796222158 </td><td>0.5803233726305561</td><td>          </td><td>              </td></tr>\n",
              "<tr><td>maxs   </td><td>95.0              </td><td>            </td><td>         </td><td>           </td><td>         </td><td>102127.0          </td><td>         </td><td>      </td><td>         </td><td>31.0              </td><td>       </td><td>4918.0            </td><td>63.0              </td><td>871.0             </td><td>275.0             </td><td>          </td><td>              </td></tr>\n",
              "<tr><td>sigma  </td><td>10.618762040975398</td><td>            </td><td>         </td><td>           </td><td>         </td><td>3044.7658291685216</td><td>         </td><td>      </td><td>         </td><td>8.32247615304459  </td><td>       </td><td>257.52781226517124</td><td>3.0980208832791805</td><td>100.12874599059822</td><td>2.303441044931215 </td><td>          </td><td>              </td></tr>\n",
              "<tr><td>zeros  </td><td>0                 </td><td>            </td><td>         </td><td>           </td><td>         </td><td>3514              </td><td>         </td><td>      </td><td>         </td><td>0                 </td><td>       </td><td>3                 </td><td>0                 </td><td>0                 </td><td>36954             </td><td>          </td><td>              </td></tr>\n",
              "<tr><td>missing</td><td>0                 </td><td>0           </td><td>0        </td><td>0          </td><td>0        </td><td>0                 </td><td>0        </td><td>0     </td><td>0        </td><td>0                 </td><td>0      </td><td>0                 </td><td>0                 </td><td>0                 </td><td>0                 </td><td>0         </td><td>0             </td></tr>\n",
              "<tr><td>0      </td><td>58.0              </td><td>management  </td><td>married  </td><td>tertiary   </td><td>no       </td><td>2143.0            </td><td>yes      </td><td>no    </td><td>unknown  </td><td>5.0               </td><td>may    </td><td>261.0             </td><td>1.0               </td><td>-1.0              </td><td>0.0               </td><td>unknown   </td><td>no            </td></tr>\n",
              "<tr><td>1      </td><td>44.0              </td><td>technician  </td><td>single   </td><td>secondary  </td><td>no       </td><td>29.0              </td><td>yes      </td><td>no    </td><td>unknown  </td><td>5.0               </td><td>may    </td><td>151.0             </td><td>1.0               </td><td>-1.0              </td><td>0.0               </td><td>unknown   </td><td>no            </td></tr>\n",
              "<tr><td>2      </td><td>33.0              </td><td>entrepreneur</td><td>married  </td><td>secondary  </td><td>no       </td><td>2.0               </td><td>yes      </td><td>yes   </td><td>unknown  </td><td>5.0               </td><td>may    </td><td>76.0              </td><td>1.0               </td><td>-1.0              </td><td>0.0               </td><td>unknown   </td><td>no            </td></tr>\n",
              "<tr><td>3      </td><td>47.0              </td><td>blue-collar </td><td>married  </td><td>unknown    </td><td>no       </td><td>1506.0            </td><td>yes      </td><td>no    </td><td>unknown  </td><td>5.0               </td><td>may    </td><td>92.0              </td><td>1.0               </td><td>-1.0              </td><td>0.0               </td><td>unknown   </td><td>no            </td></tr>\n",
              "<tr><td>4      </td><td>33.0              </td><td>unknown     </td><td>single   </td><td>unknown    </td><td>no       </td><td>1.0               </td><td>no       </td><td>no    </td><td>unknown  </td><td>5.0               </td><td>may    </td><td>198.0             </td><td>1.0               </td><td>-1.0              </td><td>0.0               </td><td>unknown   </td><td>no            </td></tr>\n",
              "<tr><td>5      </td><td>35.0              </td><td>management  </td><td>married  </td><td>tertiary   </td><td>no       </td><td>231.0             </td><td>yes      </td><td>no    </td><td>unknown  </td><td>5.0               </td><td>may    </td><td>139.0             </td><td>1.0               </td><td>-1.0              </td><td>0.0               </td><td>unknown   </td><td>no            </td></tr>\n",
              "<tr><td>6      </td><td>28.0              </td><td>management  </td><td>single   </td><td>tertiary   </td><td>no       </td><td>447.0             </td><td>yes      </td><td>yes   </td><td>unknown  </td><td>5.0               </td><td>may    </td><td>217.0             </td><td>1.0               </td><td>-1.0              </td><td>0.0               </td><td>unknown   </td><td>no            </td></tr>\n",
              "<tr><td>7      </td><td>42.0              </td><td>entrepreneur</td><td>divorced </td><td>tertiary   </td><td>yes      </td><td>2.0               </td><td>yes      </td><td>no    </td><td>unknown  </td><td>5.0               </td><td>may    </td><td>380.0             </td><td>1.0               </td><td>-1.0              </td><td>0.0               </td><td>unknown   </td><td>no            </td></tr>\n",
              "<tr><td>8      </td><td>58.0              </td><td>retired     </td><td>married  </td><td>primary    </td><td>no       </td><td>121.0             </td><td>yes      </td><td>no    </td><td>unknown  </td><td>5.0               </td><td>may    </td><td>50.0              </td><td>1.0               </td><td>-1.0              </td><td>0.0               </td><td>unknown   </td><td>no            </td></tr>\n",
              "<tr><td>9      </td><td>43.0              </td><td>technician  </td><td>single   </td><td>secondary  </td><td>no       </td><td>593.0             </td><td>yes      </td><td>no    </td><td>unknown  </td><td>5.0               </td><td>may    </td><td>55.0              </td><td>1.0               </td><td>-1.0              </td><td>0.0               </td><td>unknown   </td><td>no            </td></tr>\n",
              "</tbody>\n",
              "</table>"
            ]
          },
          "metadata": {}
        }
      ]
    },
    {
      "cell_type": "code",
      "metadata": {
        "id": "zGpIdvgtl4tM"
      },
      "source": [
        "#split train and test sets\n",
        "train, test = h2o_df.split_frame(ratios=[.75])\n",
        "\n",
        "#define X and y\n",
        "X = train.columns\n",
        "y = 'TERM_DEPOSIT'\n",
        "X.remove(y)"
      ],
      "execution_count": 29,
      "outputs": []
    },
    {
      "cell_type": "code",
      "metadata": {
        "colab": {
          "base_uri": "https://localhost:8080/"
        },
        "id": "F_olMAvpmf8O",
        "outputId": "cea0e028-2e3e-4306-9ac2-6736c93b04a8"
      },
      "source": [
        "X"
      ],
      "execution_count": 30,
      "outputs": [
        {
          "output_type": "execute_result",
          "data": {
            "text/plain": [
              "['AGE',\n",
              " 'JOB',\n",
              " 'MARITAL',\n",
              " 'EDUCATION',\n",
              " 'DEFAULT',\n",
              " 'BALANCE',\n",
              " 'HOUSING',\n",
              " 'LOAN',\n",
              " 'CONTACT',\n",
              " 'DAY',\n",
              " 'MONTH',\n",
              " 'DURATION',\n",
              " 'CAMPAIGN',\n",
              " 'PDAYS',\n",
              " 'PREVIOUS',\n",
              " 'POUTCOME']"
            ]
          },
          "metadata": {},
          "execution_count": 30
        }
      ]
    },
    {
      "cell_type": "code",
      "metadata": {
        "colab": {
          "base_uri": "https://localhost:8080/",
          "height": 35
        },
        "id": "C71Uy8JLmhji",
        "outputId": "700636e1-50d6-4c3a-84c8-ecd8bc7a2ff3"
      },
      "source": [
        "y"
      ],
      "execution_count": 31,
      "outputs": [
        {
          "output_type": "execute_result",
          "data": {
            "application/vnd.google.colaboratory.intrinsic+json": {
              "type": "string"
            },
            "text/plain": [
              "'TERM_DEPOSIT'"
            ]
          },
          "metadata": {},
          "execution_count": 31
        }
      ]
    },
    {
      "cell_type": "markdown",
      "metadata": {
        "id": "P1yfHZowSSDG"
      },
      "source": [
        "## Run H2O AutoML"
      ]
    },
    {
      "cell_type": "code",
      "metadata": {
        "colab": {
          "base_uri": "https://localhost:8080/"
        },
        "id": "jCOuNyTNn1sK",
        "outputId": "7ac9b429-4a69-464e-d591-38f092b00332"
      },
      "source": [
        "#check class distribution\n",
        "df.TERM_DEPOSIT.value_counts()"
      ],
      "execution_count": 32,
      "outputs": [
        {
          "output_type": "execute_result",
          "data": {
            "text/plain": [
              "no     39922\n",
              "yes     5289\n",
              "Name: TERM_DEPOSIT, dtype: int64"
            ]
          },
          "metadata": {},
          "execution_count": 32
        }
      ]
    },
    {
      "cell_type": "code",
      "metadata": {
        "id": "lhSAbdoBSSDG"
      },
      "source": [
        "from h2o.automl import H2OAutoML\n",
        "\n",
        "#initialize\n",
        "aml = H2OAutoML(max_runtime_secs=600,   #keep runtime at 10mins\n",
        "                balance_classes=True,\n",
        "                stopping_metric='logloss',\n",
        "                seed=1,\n",
        "                project_name='Final') "
      ],
      "execution_count": 33,
      "outputs": []
    },
    {
      "cell_type": "code",
      "metadata": {
        "id": "S4hifjMCSSDG",
        "colab": {
          "base_uri": "https://localhost:8080/"
        },
        "outputId": "8bbfe036-1ded-45f3-ad87-7a0a6d131678"
      },
      "source": [
        "#train\n",
        "%time \n",
        "aml.train(x=X, \n",
        "          y=y,\n",
        "          training_frame=train)"
      ],
      "execution_count": 37,
      "outputs": [
        {
          "output_type": "stream",
          "name": "stdout",
          "text": [
            "CPU times: user 3 µs, sys: 0 ns, total: 3 µs\n",
            "Wall time: 5.48 µs\n",
            "AutoML progress: |████████████████████████████████████████████████████████| 100%\n"
          ]
        }
      ]
    },
    {
      "cell_type": "markdown",
      "metadata": {
        "id": "tlUSaN-3SSDG"
      },
      "source": [
        "## AutoML Leaderboard and Ensemble Exploration"
      ]
    },
    {
      "cell_type": "code",
      "metadata": {
        "id": "H8QDfBUOSSDH",
        "colab": {
          "base_uri": "https://localhost:8080/",
          "height": 515
        },
        "outputId": "44f82a66-a7b0-4dee-b8cf-ac43feedc6d8"
      },
      "source": [
        "#view leaderboard\n",
        "lb = aml.leaderboard\n",
        "lb.head(rows=lb.nrows) #show all the rows"
      ],
      "execution_count": 38,
      "outputs": [
        {
          "output_type": "display_data",
          "data": {
            "text/html": [
              "<table>\n",
              "<thead>\n",
              "<tr><th>model_id                                           </th><th style=\"text-align: right;\">     auc</th><th style=\"text-align: right;\">  logloss</th><th style=\"text-align: right;\">   aucpr</th><th style=\"text-align: right;\">  mean_per_class_error</th><th style=\"text-align: right;\">    rmse</th><th style=\"text-align: right;\">      mse</th></tr>\n",
              "</thead>\n",
              "<tbody>\n",
              "<tr><td>StackedEnsemble_AllModels_AutoML_20210902_083137   </td><td style=\"text-align: right;\">0.935697</td><td style=\"text-align: right;\"> 0.195455</td><td style=\"text-align: right;\">0.623268</td><td style=\"text-align: right;\">              0.176   </td><td style=\"text-align: right;\">0.248141</td><td style=\"text-align: right;\">0.0615737</td></tr>\n",
              "<tr><td>StackedEnsemble_BestOfFamily_AutoML_20210902_083137</td><td style=\"text-align: right;\">0.933657</td><td style=\"text-align: right;\"> 0.197893</td><td style=\"text-align: right;\">0.618127</td><td style=\"text-align: right;\">              0.173253</td><td style=\"text-align: right;\">0.249452</td><td style=\"text-align: right;\">0.0622261</td></tr>\n",
              "<tr><td>GBM_grid__1_AutoML_20210902_083137_model_1         </td><td style=\"text-align: right;\">0.933163</td><td style=\"text-align: right;\"> 0.199264</td><td style=\"text-align: right;\">0.612205</td><td style=\"text-align: right;\">              0.176116</td><td style=\"text-align: right;\">0.250663</td><td style=\"text-align: right;\">0.0628319</td></tr>\n",
              "<tr><td>GBM_grid__1_AutoML_20210902_083137_model_2         </td><td style=\"text-align: right;\">0.9303  </td><td style=\"text-align: right;\"> 0.209169</td><td style=\"text-align: right;\">0.607393</td><td style=\"text-align: right;\">              0.171979</td><td style=\"text-align: right;\">0.257099</td><td style=\"text-align: right;\">0.0660998</td></tr>\n",
              "<tr><td>GBM_2_AutoML_20210902_083137                       </td><td style=\"text-align: right;\">0.929955</td><td style=\"text-align: right;\"> 0.224801</td><td style=\"text-align: right;\">0.607485</td><td style=\"text-align: right;\">              0.166555</td><td style=\"text-align: right;\">0.266159</td><td style=\"text-align: right;\">0.0708406</td></tr>\n",
              "<tr><td>XGBoost_3_AutoML_20210902_083137                   </td><td style=\"text-align: right;\">0.928388</td><td style=\"text-align: right;\"> 0.206165</td><td style=\"text-align: right;\">0.605021</td><td style=\"text-align: right;\">              0.175092</td><td style=\"text-align: right;\">0.253094</td><td style=\"text-align: right;\">0.0640564</td></tr>\n",
              "<tr><td>GBM_3_AutoML_20210902_083137                       </td><td style=\"text-align: right;\">0.927945</td><td style=\"text-align: right;\"> 0.226096</td><td style=\"text-align: right;\">0.592135</td><td style=\"text-align: right;\">              0.16876 </td><td style=\"text-align: right;\">0.26745 </td><td style=\"text-align: right;\">0.0715294</td></tr>\n",
              "<tr><td>GBM_5_AutoML_20210902_083137                       </td><td style=\"text-align: right;\">0.927777</td><td style=\"text-align: right;\"> 0.242829</td><td style=\"text-align: right;\">0.591265</td><td style=\"text-align: right;\">              0.173227</td><td style=\"text-align: right;\">0.276484</td><td style=\"text-align: right;\">0.0764433</td></tr>\n",
              "<tr><td>XGBoost_2_AutoML_20210902_083137                   </td><td style=\"text-align: right;\">0.92539 </td><td style=\"text-align: right;\"> 0.21298 </td><td style=\"text-align: right;\">0.591461</td><td style=\"text-align: right;\">              0.175267</td><td style=\"text-align: right;\">0.255189</td><td style=\"text-align: right;\">0.0651217</td></tr>\n",
              "<tr><td>XGBoost_grid__1_AutoML_20210902_083137_model_3     </td><td style=\"text-align: right;\">0.925369</td><td style=\"text-align: right;\"> 0.214263</td><td style=\"text-align: right;\">0.582416</td><td style=\"text-align: right;\">              0.18808 </td><td style=\"text-align: right;\">0.259212</td><td style=\"text-align: right;\">0.067191 </td></tr>\n",
              "<tr><td>XGBoost_grid__1_AutoML_20210902_083137_model_1     </td><td style=\"text-align: right;\">0.925176</td><td style=\"text-align: right;\"> 0.222078</td><td style=\"text-align: right;\">0.575938</td><td style=\"text-align: right;\">              0.176006</td><td style=\"text-align: right;\">0.262505</td><td style=\"text-align: right;\">0.0689087</td></tr>\n",
              "<tr><td>XGBoost_grid__1_AutoML_20210902_083137_model_2     </td><td style=\"text-align: right;\">0.925009</td><td style=\"text-align: right;\"> 0.215613</td><td style=\"text-align: right;\">0.58474 </td><td style=\"text-align: right;\">              0.17473 </td><td style=\"text-align: right;\">0.260345</td><td style=\"text-align: right;\">0.0677795</td></tr>\n",
              "<tr><td>GBM_1_AutoML_20210902_083137                       </td><td style=\"text-align: right;\">0.923925</td><td style=\"text-align: right;\"> 0.236143</td><td style=\"text-align: right;\">0.584586</td><td style=\"text-align: right;\">              0.180245</td><td style=\"text-align: right;\">0.271795</td><td style=\"text-align: right;\">0.0738723</td></tr>\n",
              "<tr><td>GBM_4_AutoML_20210902_083137                       </td><td style=\"text-align: right;\">0.922714</td><td style=\"text-align: right;\"> 0.255881</td><td style=\"text-align: right;\">0.58379 </td><td style=\"text-align: right;\">              0.170007</td><td style=\"text-align: right;\">0.282877</td><td style=\"text-align: right;\">0.0800192</td></tr>\n",
              "<tr><td>XGBoost_1_AutoML_20210902_083137                   </td><td style=\"text-align: right;\">0.918456</td><td style=\"text-align: right;\"> 0.223146</td><td style=\"text-align: right;\">0.583235</td><td style=\"text-align: right;\">              0.18082 </td><td style=\"text-align: right;\">0.258013</td><td style=\"text-align: right;\">0.0665707</td></tr>\n",
              "<tr><td>GBM_grid__1_AutoML_20210902_083137_model_3         </td><td style=\"text-align: right;\">0.909082</td><td style=\"text-align: right;\"> 0.302847</td><td style=\"text-align: right;\">0.535581</td><td style=\"text-align: right;\">              0.193592</td><td style=\"text-align: right;\">0.301573</td><td style=\"text-align: right;\">0.0909464</td></tr>\n",
              "<tr><td>GLM_1_AutoML_20210902_083137                       </td><td style=\"text-align: right;\">0.907469</td><td style=\"text-align: right;\"> 0.240181</td><td style=\"text-align: right;\">0.545494</td><td style=\"text-align: right;\">              0.212147</td><td style=\"text-align: right;\">0.26712 </td><td style=\"text-align: right;\">0.0713531</td></tr>\n",
              "<tr><td>XGBoost_grid__1_AutoML_20210902_083137_model_4     </td><td style=\"text-align: right;\">0.907   </td><td style=\"text-align: right;\"> 0.239605</td><td style=\"text-align: right;\">0.555823</td><td style=\"text-align: right;\">              0.175867</td><td style=\"text-align: right;\">0.265954</td><td style=\"text-align: right;\">0.0707315</td></tr>\n",
              "<tr><td>DeepLearning_grid__1_AutoML_20210902_083137_model_1</td><td style=\"text-align: right;\">0.904006</td><td style=\"text-align: right;\"> 0.249063</td><td style=\"text-align: right;\">0.540782</td><td style=\"text-align: right;\">              0.207214</td><td style=\"text-align: right;\">0.273904</td><td style=\"text-align: right;\">0.0750236</td></tr>\n",
              "<tr><td>XRT_1_AutoML_20210902_083137                       </td><td style=\"text-align: right;\">0.896435</td><td style=\"text-align: right;\"> 0.337692</td><td style=\"text-align: right;\">0.520595</td><td style=\"text-align: right;\">              0.207893</td><td style=\"text-align: right;\">0.287765</td><td style=\"text-align: right;\">0.0828087</td></tr>\n",
              "<tr><td>DRF_1_AutoML_20210902_083137                       </td><td style=\"text-align: right;\">0.884397</td><td style=\"text-align: right;\"> 0.771853</td><td style=\"text-align: right;\">0.502362</td><td style=\"text-align: right;\">              0.215904</td><td style=\"text-align: right;\">0.292886</td><td style=\"text-align: right;\">0.0857823</td></tr>\n",
              "<tr><td>DeepLearning_grid__2_AutoML_20210902_083137_model_1</td><td style=\"text-align: right;\">0.874417</td><td style=\"text-align: right;\"> 0.300538</td><td style=\"text-align: right;\">0.477791</td><td style=\"text-align: right;\">              0.224928</td><td style=\"text-align: right;\">0.291342</td><td style=\"text-align: right;\">0.08488  </td></tr>\n",
              "<tr><td>DeepLearning_grid__3_AutoML_20210902_083137_model_1</td><td style=\"text-align: right;\">0.87065 </td><td style=\"text-align: right;\"> 0.275886</td><td style=\"text-align: right;\">0.475105</td><td style=\"text-align: right;\">              0.233837</td><td style=\"text-align: right;\">0.284581</td><td style=\"text-align: right;\">0.0809861</td></tr>\n",
              "<tr><td>DeepLearning_grid__3_AutoML_20210902_083137_model_2</td><td style=\"text-align: right;\">0.866604</td><td style=\"text-align: right;\"> 0.452049</td><td style=\"text-align: right;\">0.426923</td><td style=\"text-align: right;\">              0.234922</td><td style=\"text-align: right;\">0.382211</td><td style=\"text-align: right;\">0.146085 </td></tr>\n",
              "<tr><td>DeepLearning_grid__1_AutoML_20210902_083137_model_2</td><td style=\"text-align: right;\">0.848143</td><td style=\"text-align: right;\"> 0.402053</td><td style=\"text-align: right;\">0.448113</td><td style=\"text-align: right;\">              0.25418 </td><td style=\"text-align: right;\">0.347837</td><td style=\"text-align: right;\">0.12099  </td></tr>\n",
              "<tr><td>DeepLearning_grid__2_AutoML_20210902_083137_model_2</td><td style=\"text-align: right;\">0.838945</td><td style=\"text-align: right;\"> 0.442198</td><td style=\"text-align: right;\">0.423216</td><td style=\"text-align: right;\">              0.265433</td><td style=\"text-align: right;\">0.372931</td><td style=\"text-align: right;\">0.139077 </td></tr>\n",
              "<tr><td>DeepLearning_1_AutoML_20210902_083137              </td><td style=\"text-align: right;\">0.810661</td><td style=\"text-align: right;\"> 0.352531</td><td style=\"text-align: right;\">0.39631 </td><td style=\"text-align: right;\">              0.287865</td><td style=\"text-align: right;\">0.294915</td><td style=\"text-align: right;\">0.086975 </td></tr>\n",
              "</tbody>\n",
              "</table>"
            ]
          },
          "metadata": {}
        },
        {
          "output_type": "execute_result",
          "data": {
            "text/plain": [
              ""
            ]
          },
          "metadata": {},
          "execution_count": 38
        }
      ]
    },
    {
      "cell_type": "code",
      "metadata": {
        "id": "SA2HA04eSSDH",
        "colab": {
          "base_uri": "https://localhost:8080/"
        },
        "outputId": "0f00ce4a-78af-4b08-d744-e625a0c1586d"
      },
      "source": [
        "#look at best model\n",
        "se = aml.leader\n",
        "metalearner = h2o.get_model(se.metalearner()['name'])"
      ],
      "execution_count": 39,
      "outputs": [
        {
          "output_type": "stream",
          "name": "stderr",
          "text": [
            "/usr/local/lib/python3.7/dist-packages/h2o/estimators/stackedensemble.py:838: H2ODeprecationWarning: The usage of stacked_ensemble.metalearner()['name'] will be deprecated. Metalearner now returns the metalearner object. If you need to get the 'name' please use stacked_ensemble.metalearner().model_id\n",
            "  H2ODeprecationWarning\n"
          ]
        }
      ]
    },
    {
      "cell_type": "code",
      "metadata": {
        "id": "v8ch9W3WSSDH",
        "colab": {
          "base_uri": "https://localhost:8080/"
        },
        "outputId": "1a54e898-2b60-44ea-fdee-cfb38662aa5c"
      },
      "source": [
        "#look at important variables\n",
        "metalearner.varimp()"
      ],
      "execution_count": 40,
      "outputs": [
        {
          "output_type": "execute_result",
          "data": {
            "text/plain": [
              "[('GBM_grid__1_AutoML_20210902_083137_model_1',\n",
              "  0.9387661814689636,\n",
              "  1.0,\n",
              "  0.3846867957808126),\n",
              " ('XGBoost_grid__1_AutoML_20210902_083137_model_1',\n",
              "  0.29303428530693054,\n",
              "  0.3121483188160826,\n",
              "  0.12007933657372637),\n",
              " ('GBM_2_AutoML_20210902_083137',\n",
              "  0.23741403222084045,\n",
              "  0.25290006916241853,\n",
              "  0.09728731725883669),\n",
              " ('XGBoost_grid__1_AutoML_20210902_083137_model_2',\n",
              "  0.22603827714920044,\n",
              "  0.240782296604997,\n",
              "  0.09262577016172154),\n",
              " ('GBM_grid__1_AutoML_20210902_083137_model_2',\n",
              "  0.21438010036945343,\n",
              "  0.22836368054289674,\n",
              "  0.08784849254076005),\n",
              " ('XRT_1_AutoML_20210902_083137',\n",
              "  0.16308072209358215,\n",
              "  0.17371814762052518,\n",
              "  0.06682707757711803),\n",
              " ('XGBoost_grid__1_AutoML_20210902_083137_model_3',\n",
              "  0.15547163784503937,\n",
              "  0.16561273820256314,\n",
              "  0.0637090335996306),\n",
              " ('GBM_4_AutoML_20210902_083137',\n",
              "  0.09492059797048569,\n",
              "  0.10111207651510808,\n",
              "  0.03889648072934128),\n",
              " ('DRF_1_AutoML_20210902_083137',\n",
              "  0.08445723354816437,\n",
              "  0.08996620800294199,\n",
              "  0.03460881228520186),\n",
              " ('GBM_5_AutoML_20210902_083137',\n",
              "  0.022444020956754684,\n",
              "  0.023907999030849943,\n",
              "  0.009197091540708437),\n",
              " ('XGBoost_grid__1_AutoML_20210902_083137_model_4',\n",
              "  0.008454730734229088,\n",
              "  0.009006215712840533,\n",
              "  0.003464572264683432),\n",
              " ('DeepLearning_grid__1_AutoML_20210902_083137_model_1',\n",
              "  0.0018771567847579718,\n",
              "  0.0019995999236153057,\n",
              "  0.0007692196874591296),\n",
              " ('XGBoost_3_AutoML_20210902_083137', 0.0, 0.0, 0.0),\n",
              " ('GBM_3_AutoML_20210902_083137', 0.0, 0.0, 0.0),\n",
              " ('XGBoost_2_AutoML_20210902_083137', 0.0, 0.0, 0.0),\n",
              " ('GBM_1_AutoML_20210902_083137', 0.0, 0.0, 0.0),\n",
              " ('XGBoost_1_AutoML_20210902_083137', 0.0, 0.0, 0.0),\n",
              " ('GBM_grid__1_AutoML_20210902_083137_model_3', 0.0, 0.0, 0.0),\n",
              " ('GLM_1_AutoML_20210902_083137', 0.0, 0.0, 0.0),\n",
              " ('DeepLearning_grid__2_AutoML_20210902_083137_model_1', 0.0, 0.0, 0.0),\n",
              " ('DeepLearning_grid__3_AutoML_20210902_083137_model_1', 0.0, 0.0, 0.0),\n",
              " ('DeepLearning_grid__3_AutoML_20210902_083137_model_2', 0.0, 0.0, 0.0),\n",
              " ('DeepLearning_grid__1_AutoML_20210902_083137_model_2', 0.0, 0.0, 0.0),\n",
              " ('DeepLearning_grid__2_AutoML_20210902_083137_model_2', 0.0, 0.0, 0.0),\n",
              " ('DeepLearning_1_AutoML_20210902_083137', 0.0, 0.0, 0.0)]"
            ]
          },
          "metadata": {},
          "execution_count": 40
        }
      ]
    },
    {
      "cell_type": "markdown",
      "metadata": {
        "id": "FITiGBacSSDH"
      },
      "source": [
        "## Base Learner XGBoost Model Exploration"
      ]
    },
    {
      "cell_type": "code",
      "metadata": {
        "id": "Fk6YVYRtSSDH"
      },
      "source": [
        "#import top performing base learner\n",
        "model = h2o.get_model('GBM_grid__1_AutoML_20210902_083137_model_1')"
      ],
      "execution_count": 41,
      "outputs": []
    },
    {
      "cell_type": "code",
      "metadata": {
        "id": "wLjxI3TmSSDH",
        "colab": {
          "base_uri": "https://localhost:8080/",
          "height": 1000
        },
        "outputId": "a4d354f2-80a3-44a6-8406-dbdac31a2ec1"
      },
      "source": [
        "#evaluate the base learner on the test set\n",
        "model.model_performance(test)"
      ],
      "execution_count": 42,
      "outputs": [
        {
          "output_type": "stream",
          "name": "stdout",
          "text": [
            "\n",
            "ModelMetricsBinomial: gbm\n",
            "** Reported on test data. **\n",
            "\n",
            "MSE: 0.06418624792576558\n",
            "RMSE: 0.2533500501791258\n",
            "LogLoss: 0.20459472798309736\n",
            "Mean Per-Class Error: 0.1350212040663109\n",
            "AUC: 0.9300791122474057\n",
            "AUCPR: 0.6064111357764752\n",
            "Gini: 0.8601582244948114\n",
            "\n",
            "Confusion Matrix (Act/Pred) for max f1 @ threshold = 0.3012779486219197: \n"
          ]
        },
        {
          "output_type": "display_data",
          "data": {
            "text/html": [
              "<div>\n",
              "<style scoped>\n",
              "    .dataframe tbody tr th:only-of-type {\n",
              "        vertical-align: middle;\n",
              "    }\n",
              "\n",
              "    .dataframe tbody tr th {\n",
              "        vertical-align: top;\n",
              "    }\n",
              "\n",
              "    .dataframe thead th {\n",
              "        text-align: right;\n",
              "    }\n",
              "</style>\n",
              "<table border=\"1\" class=\"dataframe\">\n",
              "  <thead>\n",
              "    <tr style=\"text-align: right;\">\n",
              "      <th></th>\n",
              "      <th></th>\n",
              "      <th>no</th>\n",
              "      <th>yes</th>\n",
              "      <th>Error</th>\n",
              "      <th>Rate</th>\n",
              "    </tr>\n",
              "  </thead>\n",
              "  <tbody>\n",
              "    <tr>\n",
              "      <th>0</th>\n",
              "      <td>no</td>\n",
              "      <td>9238.0</td>\n",
              "      <td>707.0</td>\n",
              "      <td>0.0711</td>\n",
              "      <td>(707.0/9945.0)</td>\n",
              "    </tr>\n",
              "    <tr>\n",
              "      <th>1</th>\n",
              "      <td>yes</td>\n",
              "      <td>404.0</td>\n",
              "      <td>934.0</td>\n",
              "      <td>0.3019</td>\n",
              "      <td>(404.0/1338.0)</td>\n",
              "    </tr>\n",
              "    <tr>\n",
              "      <th>2</th>\n",
              "      <td>Total</td>\n",
              "      <td>9642.0</td>\n",
              "      <td>1641.0</td>\n",
              "      <td>0.0985</td>\n",
              "      <td>(1111.0/11283.0)</td>\n",
              "    </tr>\n",
              "  </tbody>\n",
              "</table>\n",
              "</div>"
            ],
            "text/plain": [
              "              no     yes   Error               Rate\n",
              "0     no  9238.0   707.0  0.0711     (707.0/9945.0)\n",
              "1    yes   404.0   934.0  0.3019     (404.0/1338.0)\n",
              "2  Total  9642.0  1641.0  0.0985   (1111.0/11283.0)"
            ]
          },
          "metadata": {}
        },
        {
          "output_type": "stream",
          "name": "stdout",
          "text": [
            "\n",
            "Maximum Metrics: Maximum metrics at their respective thresholds\n"
          ]
        },
        {
          "output_type": "display_data",
          "data": {
            "text/html": [
              "<div>\n",
              "<style scoped>\n",
              "    .dataframe tbody tr th:only-of-type {\n",
              "        vertical-align: middle;\n",
              "    }\n",
              "\n",
              "    .dataframe tbody tr th {\n",
              "        vertical-align: top;\n",
              "    }\n",
              "\n",
              "    .dataframe thead th {\n",
              "        text-align: right;\n",
              "    }\n",
              "</style>\n",
              "<table border=\"1\" class=\"dataframe\">\n",
              "  <thead>\n",
              "    <tr style=\"text-align: right;\">\n",
              "      <th></th>\n",
              "      <th>metric</th>\n",
              "      <th>threshold</th>\n",
              "      <th>value</th>\n",
              "      <th>idx</th>\n",
              "    </tr>\n",
              "  </thead>\n",
              "  <tbody>\n",
              "    <tr>\n",
              "      <th>0</th>\n",
              "      <td>max f1</td>\n",
              "      <td>0.301278</td>\n",
              "      <td>0.627056</td>\n",
              "      <td>205.0</td>\n",
              "    </tr>\n",
              "    <tr>\n",
              "      <th>1</th>\n",
              "      <td>max f2</td>\n",
              "      <td>0.109907</td>\n",
              "      <td>0.729918</td>\n",
              "      <td>296.0</td>\n",
              "    </tr>\n",
              "    <tr>\n",
              "      <th>2</th>\n",
              "      <td>max f0point5</td>\n",
              "      <td>0.448235</td>\n",
              "      <td>0.609236</td>\n",
              "      <td>148.0</td>\n",
              "    </tr>\n",
              "    <tr>\n",
              "      <th>3</th>\n",
              "      <td>max accuracy</td>\n",
              "      <td>0.448235</td>\n",
              "      <td>0.907915</td>\n",
              "      <td>148.0</td>\n",
              "    </tr>\n",
              "    <tr>\n",
              "      <th>4</th>\n",
              "      <td>max precision</td>\n",
              "      <td>0.887700</td>\n",
              "      <td>0.791667</td>\n",
              "      <td>6.0</td>\n",
              "    </tr>\n",
              "    <tr>\n",
              "      <th>5</th>\n",
              "      <td>max recall</td>\n",
              "      <td>0.001372</td>\n",
              "      <td>1.000000</td>\n",
              "      <td>397.0</td>\n",
              "    </tr>\n",
              "    <tr>\n",
              "      <th>6</th>\n",
              "      <td>max specificity</td>\n",
              "      <td>0.929232</td>\n",
              "      <td>0.999899</td>\n",
              "      <td>0.0</td>\n",
              "    </tr>\n",
              "    <tr>\n",
              "      <th>7</th>\n",
              "      <td>max absolute_mcc</td>\n",
              "      <td>0.301278</td>\n",
              "      <td>0.574958</td>\n",
              "      <td>205.0</td>\n",
              "    </tr>\n",
              "    <tr>\n",
              "      <th>8</th>\n",
              "      <td>max min_per_class_accuracy</td>\n",
              "      <td>0.139392</td>\n",
              "      <td>0.858744</td>\n",
              "      <td>279.0</td>\n",
              "    </tr>\n",
              "    <tr>\n",
              "      <th>9</th>\n",
              "      <td>max mean_per_class_accuracy</td>\n",
              "      <td>0.083794</td>\n",
              "      <td>0.864979</td>\n",
              "      <td>312.0</td>\n",
              "    </tr>\n",
              "    <tr>\n",
              "      <th>10</th>\n",
              "      <td>max tns</td>\n",
              "      <td>0.929232</td>\n",
              "      <td>9944.000000</td>\n",
              "      <td>0.0</td>\n",
              "    </tr>\n",
              "    <tr>\n",
              "      <th>11</th>\n",
              "      <td>max fns</td>\n",
              "      <td>0.929232</td>\n",
              "      <td>1337.000000</td>\n",
              "      <td>0.0</td>\n",
              "    </tr>\n",
              "    <tr>\n",
              "      <th>12</th>\n",
              "      <td>max fps</td>\n",
              "      <td>0.000739</td>\n",
              "      <td>9945.000000</td>\n",
              "      <td>399.0</td>\n",
              "    </tr>\n",
              "    <tr>\n",
              "      <th>13</th>\n",
              "      <td>max tps</td>\n",
              "      <td>0.001372</td>\n",
              "      <td>1338.000000</td>\n",
              "      <td>397.0</td>\n",
              "    </tr>\n",
              "    <tr>\n",
              "      <th>14</th>\n",
              "      <td>max tnr</td>\n",
              "      <td>0.929232</td>\n",
              "      <td>0.999899</td>\n",
              "      <td>0.0</td>\n",
              "    </tr>\n",
              "    <tr>\n",
              "      <th>15</th>\n",
              "      <td>max fnr</td>\n",
              "      <td>0.929232</td>\n",
              "      <td>0.999253</td>\n",
              "      <td>0.0</td>\n",
              "    </tr>\n",
              "    <tr>\n",
              "      <th>16</th>\n",
              "      <td>max fpr</td>\n",
              "      <td>0.000739</td>\n",
              "      <td>1.000000</td>\n",
              "      <td>399.0</td>\n",
              "    </tr>\n",
              "    <tr>\n",
              "      <th>17</th>\n",
              "      <td>max tpr</td>\n",
              "      <td>0.001372</td>\n",
              "      <td>1.000000</td>\n",
              "      <td>397.0</td>\n",
              "    </tr>\n",
              "  </tbody>\n",
              "</table>\n",
              "</div>"
            ],
            "text/plain": [
              "                         metric  threshold        value    idx\n",
              "0                        max f1   0.301278     0.627056  205.0\n",
              "1                        max f2   0.109907     0.729918  296.0\n",
              "2                  max f0point5   0.448235     0.609236  148.0\n",
              "3                  max accuracy   0.448235     0.907915  148.0\n",
              "4                 max precision   0.887700     0.791667    6.0\n",
              "5                    max recall   0.001372     1.000000  397.0\n",
              "6               max specificity   0.929232     0.999899    0.0\n",
              "7              max absolute_mcc   0.301278     0.574958  205.0\n",
              "8    max min_per_class_accuracy   0.139392     0.858744  279.0\n",
              "9   max mean_per_class_accuracy   0.083794     0.864979  312.0\n",
              "10                      max tns   0.929232  9944.000000    0.0\n",
              "11                      max fns   0.929232  1337.000000    0.0\n",
              "12                      max fps   0.000739  9945.000000  399.0\n",
              "13                      max tps   0.001372  1338.000000  397.0\n",
              "14                      max tnr   0.929232     0.999899    0.0\n",
              "15                      max fnr   0.929232     0.999253    0.0\n",
              "16                      max fpr   0.000739     1.000000  399.0\n",
              "17                      max tpr   0.001372     1.000000  397.0"
            ]
          },
          "metadata": {}
        },
        {
          "output_type": "stream",
          "name": "stdout",
          "text": [
            "\n",
            "Gains/Lift Table: Avg response rate: 11.86 %, avg score: 11.14 %\n"
          ]
        },
        {
          "output_type": "display_data",
          "data": {
            "text/html": [
              "<div>\n",
              "<style scoped>\n",
              "    .dataframe tbody tr th:only-of-type {\n",
              "        vertical-align: middle;\n",
              "    }\n",
              "\n",
              "    .dataframe tbody tr th {\n",
              "        vertical-align: top;\n",
              "    }\n",
              "\n",
              "    .dataframe thead th {\n",
              "        text-align: right;\n",
              "    }\n",
              "</style>\n",
              "<table border=\"1\" class=\"dataframe\">\n",
              "  <thead>\n",
              "    <tr style=\"text-align: right;\">\n",
              "      <th></th>\n",
              "      <th>group</th>\n",
              "      <th>cumulative_data_fraction</th>\n",
              "      <th>lower_threshold</th>\n",
              "      <th>lift</th>\n",
              "      <th>cumulative_lift</th>\n",
              "      <th>response_rate</th>\n",
              "      <th>score</th>\n",
              "      <th>cumulative_response_rate</th>\n",
              "      <th>cumulative_score</th>\n",
              "      <th>capture_rate</th>\n",
              "      <th>cumulative_capture_rate</th>\n",
              "      <th>gain</th>\n",
              "      <th>cumulative_gain</th>\n",
              "      <th>kolmogorov_smirnov</th>\n",
              "    </tr>\n",
              "  </thead>\n",
              "  <tbody>\n",
              "    <tr>\n",
              "      <th>0</th>\n",
              "      <td>1</td>\n",
              "      <td>0.010015</td>\n",
              "      <td>0.815856</td>\n",
              "      <td>6.343208</td>\n",
              "      <td>6.343208</td>\n",
              "      <td>0.752212</td>\n",
              "      <td>0.856725</td>\n",
              "      <td>0.752212</td>\n",
              "      <td>0.856725</td>\n",
              "      <td>0.063528</td>\n",
              "      <td>0.063528</td>\n",
              "      <td>534.320806</td>\n",
              "      <td>534.320806</td>\n",
              "      <td>0.060712</td>\n",
              "    </tr>\n",
              "    <tr>\n",
              "      <th>1</th>\n",
              "      <td>2</td>\n",
              "      <td>0.020030</td>\n",
              "      <td>0.742403</td>\n",
              "      <td>6.193956</td>\n",
              "      <td>6.268582</td>\n",
              "      <td>0.734513</td>\n",
              "      <td>0.778035</td>\n",
              "      <td>0.743363</td>\n",
              "      <td>0.817380</td>\n",
              "      <td>0.062033</td>\n",
              "      <td>0.125561</td>\n",
              "      <td>519.395611</td>\n",
              "      <td>526.858209</td>\n",
              "      <td>0.119728</td>\n",
              "    </tr>\n",
              "    <tr>\n",
              "      <th>2</th>\n",
              "      <td>3</td>\n",
              "      <td>0.030045</td>\n",
              "      <td>0.676829</td>\n",
              "      <td>6.119330</td>\n",
              "      <td>6.218831</td>\n",
              "      <td>0.725664</td>\n",
              "      <td>0.707646</td>\n",
              "      <td>0.737463</td>\n",
              "      <td>0.780802</td>\n",
              "      <td>0.061286</td>\n",
              "      <td>0.186846</td>\n",
              "      <td>511.933013</td>\n",
              "      <td>521.883144</td>\n",
              "      <td>0.177897</td>\n",
              "    </tr>\n",
              "    <tr>\n",
              "      <th>3</th>\n",
              "      <td>4</td>\n",
              "      <td>0.040060</td>\n",
              "      <td>0.627176</td>\n",
              "      <td>5.373070</td>\n",
              "      <td>6.007391</td>\n",
              "      <td>0.637168</td>\n",
              "      <td>0.652169</td>\n",
              "      <td>0.712389</td>\n",
              "      <td>0.748644</td>\n",
              "      <td>0.053812</td>\n",
              "      <td>0.240658</td>\n",
              "      <td>437.307036</td>\n",
              "      <td>500.739117</td>\n",
              "      <td>0.227586</td>\n",
              "    </tr>\n",
              "    <tr>\n",
              "      <th>4</th>\n",
              "      <td>5</td>\n",
              "      <td>0.050075</td>\n",
              "      <td>0.590604</td>\n",
              "      <td>5.746200</td>\n",
              "      <td>5.955153</td>\n",
              "      <td>0.681416</td>\n",
              "      <td>0.608268</td>\n",
              "      <td>0.706195</td>\n",
              "      <td>0.720568</td>\n",
              "      <td>0.057549</td>\n",
              "      <td>0.298206</td>\n",
              "      <td>474.620025</td>\n",
              "      <td>495.515298</td>\n",
              "      <td>0.281514</td>\n",
              "    </tr>\n",
              "    <tr>\n",
              "      <th>5</th>\n",
              "      <td>6</td>\n",
              "      <td>0.100062</td>\n",
              "      <td>0.431032</td>\n",
              "      <td>4.664917</td>\n",
              "      <td>5.310607</td>\n",
              "      <td>0.553191</td>\n",
              "      <td>0.509298</td>\n",
              "      <td>0.629761</td>\n",
              "      <td>0.615027</td>\n",
              "      <td>0.233184</td>\n",
              "      <td>0.531390</td>\n",
              "      <td>366.491747</td>\n",
              "      <td>431.060663</td>\n",
              "      <td>0.489359</td>\n",
              "    </tr>\n",
              "    <tr>\n",
              "      <th>6</th>\n",
              "      <td>7</td>\n",
              "      <td>0.150049</td>\n",
              "      <td>0.288709</td>\n",
              "      <td>3.543543</td>\n",
              "      <td>4.721933</td>\n",
              "      <td>0.420213</td>\n",
              "      <td>0.358498</td>\n",
              "      <td>0.559953</td>\n",
              "      <td>0.529568</td>\n",
              "      <td>0.177130</td>\n",
              "      <td>0.708520</td>\n",
              "      <td>254.354308</td>\n",
              "      <td>372.193336</td>\n",
              "      <td>0.633608</td>\n",
              "    </tr>\n",
              "    <tr>\n",
              "      <th>7</th>\n",
              "      <td>8</td>\n",
              "      <td>0.200035</td>\n",
              "      <td>0.177707</td>\n",
              "      <td>2.182942</td>\n",
              "      <td>4.087467</td>\n",
              "      <td>0.258865</td>\n",
              "      <td>0.228930</td>\n",
              "      <td>0.484714</td>\n",
              "      <td>0.454442</td>\n",
              "      <td>0.109118</td>\n",
              "      <td>0.817638</td>\n",
              "      <td>118.294215</td>\n",
              "      <td>308.746679</td>\n",
              "      <td>0.700695</td>\n",
              "    </tr>\n",
              "    <tr>\n",
              "      <th>8</th>\n",
              "      <td>9</td>\n",
              "      <td>0.300009</td>\n",
              "      <td>0.069334</td>\n",
              "      <td>1.166229</td>\n",
              "      <td>3.114009</td>\n",
              "      <td>0.138298</td>\n",
              "      <td>0.114970</td>\n",
              "      <td>0.369276</td>\n",
              "      <td>0.341318</td>\n",
              "      <td>0.116592</td>\n",
              "      <td>0.934230</td>\n",
              "      <td>16.622937</td>\n",
              "      <td>211.400865</td>\n",
              "      <td>0.719549</td>\n",
              "    </tr>\n",
              "    <tr>\n",
              "      <th>9</th>\n",
              "      <td>10</td>\n",
              "      <td>0.399982</td>\n",
              "      <td>0.030300</td>\n",
              "      <td>0.388743</td>\n",
              "      <td>2.432843</td>\n",
              "      <td>0.046099</td>\n",
              "      <td>0.046474</td>\n",
              "      <td>0.288500</td>\n",
              "      <td>0.267623</td>\n",
              "      <td>0.038864</td>\n",
              "      <td>0.973094</td>\n",
              "      <td>-61.125688</td>\n",
              "      <td>143.284324</td>\n",
              "      <td>0.650218</td>\n",
              "    </tr>\n",
              "    <tr>\n",
              "      <th>10</th>\n",
              "      <td>11</td>\n",
              "      <td>0.500044</td>\n",
              "      <td>0.014309</td>\n",
              "      <td>0.164323</td>\n",
              "      <td>1.978898</td>\n",
              "      <td>0.019486</td>\n",
              "      <td>0.020966</td>\n",
              "      <td>0.234669</td>\n",
              "      <td>0.218265</td>\n",
              "      <td>0.016442</td>\n",
              "      <td>0.989537</td>\n",
              "      <td>-83.567743</td>\n",
              "      <td>97.889786</td>\n",
              "      <td>0.555349</td>\n",
              "    </tr>\n",
              "    <tr>\n",
              "      <th>11</th>\n",
              "      <td>12</td>\n",
              "      <td>0.600018</td>\n",
              "      <td>0.007437</td>\n",
              "      <td>0.059807</td>\n",
              "      <td>1.659144</td>\n",
              "      <td>0.007092</td>\n",
              "      <td>0.010442</td>\n",
              "      <td>0.196750</td>\n",
              "      <td>0.183638</td>\n",
              "      <td>0.005979</td>\n",
              "      <td>0.995516</td>\n",
              "      <td>-94.019337</td>\n",
              "      <td>65.914381</td>\n",
              "      <td>0.448708</td>\n",
              "    </tr>\n",
              "    <tr>\n",
              "      <th>12</th>\n",
              "      <td>13</td>\n",
              "      <td>0.699991</td>\n",
              "      <td>0.004197</td>\n",
              "      <td>0.007476</td>\n",
              "      <td>1.423251</td>\n",
              "      <td>0.000887</td>\n",
              "      <td>0.005628</td>\n",
              "      <td>0.168777</td>\n",
              "      <td>0.158215</td>\n",
              "      <td>0.000747</td>\n",
              "      <td>0.996263</td>\n",
              "      <td>-99.252417</td>\n",
              "      <td>42.325099</td>\n",
              "      <td>0.336132</td>\n",
              "    </tr>\n",
              "    <tr>\n",
              "      <th>13</th>\n",
              "      <td>14</td>\n",
              "      <td>0.799965</td>\n",
              "      <td>0.002576</td>\n",
              "      <td>0.014952</td>\n",
              "      <td>1.247253</td>\n",
              "      <td>0.001773</td>\n",
              "      <td>0.003311</td>\n",
              "      <td>0.147906</td>\n",
              "      <td>0.138856</td>\n",
              "      <td>0.001495</td>\n",
              "      <td>0.997758</td>\n",
              "      <td>-98.504834</td>\n",
              "      <td>24.725258</td>\n",
              "      <td>0.224404</td>\n",
              "    </tr>\n",
              "    <tr>\n",
              "      <th>14</th>\n",
              "      <td>15</td>\n",
              "      <td>0.899938</td>\n",
              "      <td>0.001494</td>\n",
              "      <td>0.007476</td>\n",
              "      <td>1.109527</td>\n",
              "      <td>0.000887</td>\n",
              "      <td>0.002013</td>\n",
              "      <td>0.131574</td>\n",
              "      <td>0.123654</td>\n",
              "      <td>0.000747</td>\n",
              "      <td>0.998505</td>\n",
              "      <td>-99.252417</td>\n",
              "      <td>10.952674</td>\n",
              "      <td>0.111829</td>\n",
              "    </tr>\n",
              "    <tr>\n",
              "      <th>15</th>\n",
              "      <td>16</td>\n",
              "      <td>1.000000</td>\n",
              "      <td>0.000268</td>\n",
              "      <td>0.014938</td>\n",
              "      <td>1.000000</td>\n",
              "      <td>0.001771</td>\n",
              "      <td>0.001042</td>\n",
              "      <td>0.118585</td>\n",
              "      <td>0.111385</td>\n",
              "      <td>0.001495</td>\n",
              "      <td>1.000000</td>\n",
              "      <td>-98.506158</td>\n",
              "      <td>0.000000</td>\n",
              "      <td>0.000000</td>\n",
              "    </tr>\n",
              "  </tbody>\n",
              "</table>\n",
              "</div>"
            ],
            "text/plain": [
              "    group  cumulative_data_fraction  ...  cumulative_gain  kolmogorov_smirnov\n",
              "0       1                  0.010015  ...       534.320806            0.060712\n",
              "1       2                  0.020030  ...       526.858209            0.119728\n",
              "2       3                  0.030045  ...       521.883144            0.177897\n",
              "3       4                  0.040060  ...       500.739117            0.227586\n",
              "4       5                  0.050075  ...       495.515298            0.281514\n",
              "5       6                  0.100062  ...       431.060663            0.489359\n",
              "6       7                  0.150049  ...       372.193336            0.633608\n",
              "7       8                  0.200035  ...       308.746679            0.700695\n",
              "8       9                  0.300009  ...       211.400865            0.719549\n",
              "9      10                  0.399982  ...       143.284324            0.650218\n",
              "10     11                  0.500044  ...        97.889786            0.555349\n",
              "11     12                  0.600018  ...        65.914381            0.448708\n",
              "12     13                  0.699991  ...        42.325099            0.336132\n",
              "13     14                  0.799965  ...        24.725258            0.224404\n",
              "14     15                  0.899938  ...        10.952674            0.111829\n",
              "15     16                  1.000000  ...         0.000000            0.000000\n",
              "\n",
              "[16 rows x 14 columns]"
            ]
          },
          "metadata": {}
        },
        {
          "output_type": "stream",
          "name": "stdout",
          "text": [
            "\n"
          ]
        },
        {
          "output_type": "execute_result",
          "data": {
            "text/plain": [
              ""
            ]
          },
          "metadata": {},
          "execution_count": 42
        }
      ]
    },
    {
      "cell_type": "code",
      "metadata": {
        "id": "7PI9Bx_cSSDH",
        "colab": {
          "base_uri": "https://localhost:8080/",
          "height": 612
        },
        "outputId": "2a4bdeda-b915-487c-891d-92c0dce20ad1"
      },
      "source": [
        "#look at important variable\n",
        "model.varimp_plot(num_of_features=20)"
      ],
      "execution_count": 44,
      "outputs": [
        {
          "output_type": "display_data",
          "data": {
            "image/png": "[encoded data removed]",
            "text/plain": [
              "<Figure size 1008x720 with 1 Axes>"
            ]
          },
          "metadata": {
            "needs_background": "light"
          }
        }
      ]
    }
  ]
}